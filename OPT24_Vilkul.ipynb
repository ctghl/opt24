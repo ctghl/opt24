{
 "cells": [
  {
   "cell_type": "code",
   "execution_count": 12,
   "id": "d9eae0e0-1bf0-422e-acd7-100bf3797fa7",
   "metadata": {},
   "outputs": [
    {
     "name": "stderr",
     "output_type": "stream",
     "text": [
      "[I 2024-12-01 22:59:23,912] A new study created in memory with name: no-name-e98cdc4b-7e7e-41f6-9909-24c4d9a63dd4\n"
     ]
    },
    {
     "name": "stdout",
     "output_type": "stream",
     "text": [
      "Downloading https://www.cs.toronto.edu/~kriz/cifar-10-python.tar.gz to /Users/anna_vilkul/Documents/учеба/cifar-10-python.tar.gz\n"
     ]
    },
    {
     "name": "stderr",
     "output_type": "stream",
     "text": [
      "100%|████████████████████████| 170498071/170498071 [02:14<00:00, 1266400.23it/s]\n"
     ]
    },
    {
     "name": "stdout",
     "output_type": "stream",
     "text": [
      "Extracting /Users/anna_vilkul/Documents/учеба/cifar-10-python.tar.gz to /Users/anna_vilkul/Documents/учеба\n"
     ]
    },
    {
     "name": "stderr",
     "output_type": "stream",
     "text": [
      "[I 2024-12-01 23:09:14,777] Trial 0 finished with value: 0.34921875 and parameters: {'n_layers': 2, 'n_units_l0': 96, 'kernel_size': 7, 'dropout_l0': 0.23726362588785577, 'n_units_l1': 54, 'dropout_l1': 0.4122368302125995, 'optimizer': 'RMSprop', 'lr': 0.0007746627515756406}. Best is trial 0 with value: 0.34921875.\n"
     ]
    },
    {
     "name": "stdout",
     "output_type": "stream",
     "text": [
      "Files already downloaded and verified\n"
     ]
    },
    {
     "name": "stderr",
     "output_type": "stream",
     "text": [
      "[I 2024-12-01 23:09:38,369] Trial 1 finished with value: 0.29140625 and parameters: {'n_layers': 1, 'n_units_l0': 42, 'kernel_size': 3, 'dropout_l0': 0.48387811806710523, 'optimizer': 'SGD', 'lr': 0.0010331697007036126}. Best is trial 0 with value: 0.34921875.\n"
     ]
    },
    {
     "name": "stdout",
     "output_type": "stream",
     "text": [
      "Статистика исследования:\n",
      "  Количество завершенных испытаний:  2\n",
      "  Количество обрезанных испытаний:  0\n",
      "  Количество завершенных испытаний:  2\n",
      "Лучшее испытание:\n",
      "  Значение (accuracy):  0.34921875\n",
      "  Параметры: \n",
      "    n_layers: 2\n",
      "    n_units_l0: 96\n",
      "    kernel_size: 7\n",
      "    dropout_l0: 0.23726362588785577\n",
      "    n_units_l1: 54\n",
      "    dropout_l1: 0.4122368302125995\n",
      "    optimizer: RMSprop\n",
      "    lr: 0.0007746627515756406\n",
      "\n",
      "Завершенные испытания:\n",
      "  Trial #0: Value: 0.34921875, Params: {'n_layers': 2, 'n_units_l0': 96, 'kernel_size': 7, 'dropout_l0': 0.23726362588785577, 'n_units_l1': 54, 'dropout_l1': 0.4122368302125995, 'optimizer': 'RMSprop', 'lr': 0.0007746627515756406}\n",
      "  Trial #1: Value: 0.29140625, Params: {'n_layers': 1, 'n_units_l0': 42, 'kernel_size': 3, 'dropout_l0': 0.48387811806710523, 'optimizer': 'SGD', 'lr': 0.0010331697007036126}\n",
      "\n",
      "Обрезанные испытания:\n"
     ]
    }
   ],
   "source": [
    "import os\n",
    "import optuna\n",
    "from optuna.trial import TrialState\n",
    "import torch\n",
    "import torch.nn as nn\n",
    "import torch.nn.functional as F\n",
    "import torch.optim as optim\n",
    "import torch.utils.data\n",
    "from torchvision import datasets, transforms\n",
    "\n",
    "# Установите устройство\n",
    "DEVICE = torch.device(\"cuda\" if torch.cuda.is_available() else \"cpu\")\n",
    "BATCHSIZE = 128\n",
    "CLASSES = 10\n",
    "DIR = os.getcwd()\n",
    "EPOCHS = 10\n",
    "N_TRAIN_EXAMPLES = BATCHSIZE * 30\n",
    "N_VALID_EXAMPLES = BATCHSIZE * 10\n",
    "\n",
    "def define_model(trial):\n",
    "    n_layers = trial.suggest_int(\"n_layers\", 1, 3)\n",
    "    layers = []\n",
    "    \n",
    "    in_channels = 3 \n",
    "    for i in range(n_layers):\n",
    "        out_channels = trial.suggest_int(\"n_units_l{}\".format(i), 16, 128)\n",
    "        kernel_size = trial.suggest_int(\"kernel_size\", 3, 7)\n",
    "        \n",
    "        layers.append(nn.Conv2d(in_channels, out_channels, kernel_size=kernel_size, padding=kernel_size//2))\n",
    "        layers.append(nn.ReLU())\n",
    "        p = trial.suggest_float(\"dropout_l{}\".format(i), 0.2, 0.5)\n",
    "        layers.append(nn.Dropout(p))\n",
    "\n",
    "        in_channels = out_channels\n",
    "        \n",
    "    layers.append(nn.Flatten())\n",
    "    layers.append(nn.Linear(in_channels * 32 * 32, CLASSES))  # 32x32 изображения\n",
    "    layers.append(nn.LogSoftmax(dim=1))\n",
    "\n",
    "    return nn.Sequential(*layers)\n",
    "\n",
    "def get_cifar10():\n",
    "    train_loader = torch.utils.data.DataLoader(\n",
    "        datasets.CIFAR10(DIR, train=True, download=True, transform=transforms.ToTensor()),\n",
    "        batch_size=BATCHSIZE,\n",
    "        shuffle=True,\n",
    "    )\n",
    "    valid_loader = torch.utils.data.DataLoader(\n",
    "        datasets.CIFAR10(DIR, train=False, transform=transforms.ToTensor()),\n",
    "        batch_size=BATCHSIZE,\n",
    "        shuffle=True,\n",
    "    )\n",
    "\n",
    "    return train_loader, valid_loader\n",
    "\n",
    "def objective(trial):\n",
    "    model = define_model(trial).to(DEVICE)\n",
    "\n",
    "    optimizer_name = trial.suggest_categorical(\"optimizer\", [\"Adam\", \"RMSprop\", \"SGD\"])\n",
    "    lr = trial.suggest_float(\"lr\", 1e-5, 1e-1, log=True)\n",
    "    optimizer = getattr(optim, optimizer_name)(model.parameters(), lr=lr)\n",
    "\n",
    "    train_loader, valid_loader = get_cifar10()\n",
    "\n",
    "    for epoch in range(EPOCHS):\n",
    "        model.train()\n",
    "        for batch_idx, (data, target) in enumerate(train_loader):\n",
    "            if batch_idx * BATCHSIZE >= N_TRAIN_EXAMPLES:\n",
    "                break\n",
    "\n",
    "            data, target = data.to(DEVICE), target.to(DEVICE)\n",
    "\n",
    "            optimizer.zero_grad()\n",
    "            output = model(data)\n",
    "            loss = F.nll_loss(output, target)\n",
    "            loss.backward()\n",
    "            optimizer.step()\n",
    "        model.eval()\n",
    "        correct = 0\n",
    "        with torch.no_grad():\n",
    "            for batch_idx, (data, target) in enumerate(valid_loader):\n",
    "                if batch_idx * BATCHSIZE >= N_VALID_EXAMPLES:\n",
    "                    break\n",
    "                data, target = data.to(DEVICE), target.to(DEVICE)\n",
    "                output = model(data)\n",
    "                pred = output.argmax(dim=1, keepdim=True)\n",
    "                correct += pred.eq(target.view_as(pred)).sum().item()\n",
    "\n",
    "        accuracy = correct / min(len(valid_loader.dataset), N_VALID_EXAMPLES)\n",
    "\n",
    "        trial.report(accuracy, epoch)\n",
    "\n",
    "        if trial.should_prune():\n",
    "            raise optuna.exceptions.TrialPruned()\n",
    "\n",
    "    return accuracy\n",
    "\n",
    "if __name__ == \"__main__\":\n",
    "    study = optuna.create_study(direction=\"maximize\")\n",
    "    study.optimize(objective, n_trials=100, timeout=600)\n",
    "\n",
    "    pruned_trials = study.get_trials(deepcopy=False, states=[TrialState.PRUNED])\n",
    "    complete_trials = study.get_trials(deepcopy=False, states=[TrialState.COMPLETE])\n",
    "\n",
    "    print(\"Статистика исследования:\")\n",
    "    print(\"  Количество завершенных испытаний: \", len(study.trials))\n",
    "    print(\"  Количество обрезанных испытаний: \", len(pruned_trials))\n",
    "    print(\"  Количество завершенных испытаний: \", len(complete_trials))\n",
    "\n",
    "    print(\"Лучшее испытание:\")\n",
    "    trial = study.best_trial\n",
    "\n",
    "    print(\"  Значение (accuracy): \", trial.value)\n",
    "\n",
    "    print(\"  Параметры: \")\n",
    "    for key, value in trial.params.items():\n",
    "        print(\"    {}: {}\".format(key, value))\n",
    "\n",
    "    print(\"\\nЗавершенные испытания:\")\n",
    "    for trial in complete_trials:\n",
    "        print(\"  Trial #{}: Value: {}, Params: {}\".format(trial.number, trial.value, trial.params))\n",
    "\n",
    "    print(\"\\nОбрезанные испытания:\")\n",
    "    for trial in pruned_trials:\n",
    "        print(\"  Trial #{}: Value: {}\".format(trial.number, trial.value))"
   ]
  },
  {
   "cell_type": "code",
   "execution_count": null,
   "id": "9a56344b-784c-47ce-854c-6668c8b4bb30",
   "metadata": {},
   "outputs": [],
   "source": []
  }
 ],
 "metadata": {
  "kernelspec": {
   "display_name": "Python 3 (ipykernel)",
   "language": "python",
   "name": "python3"
  },
  "language_info": {
   "codemirror_mode": {
    "name": "ipython",
    "version": 3
   },
   "file_extension": ".py",
   "mimetype": "text/x-python",
   "name": "python",
   "nbconvert_exporter": "python",
   "pygments_lexer": "ipython3",
   "version": "3.12.4"
  }
 },
 "nbformat": 4,
 "nbformat_minor": 5
}
