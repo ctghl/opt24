{
 "cells": [
  {
   "cell_type": "code",
   "execution_count": 31,
   "id": "39ebf87d-bd86-4945-a986-4cb0a1553a6d",
   "metadata": {},
   "outputs": [
    {
     "name": "stdout",
     "output_type": "stream",
     "text": [
      "Epoch [1/5], Loss: 0.1060\n",
      "Epoch [2/5], Loss: 0.3784\n",
      "Epoch [3/5], Loss: 0.0432\n",
      "Epoch [4/5], Loss: 0.2595\n",
      "Epoch [5/5], Loss: 0.0130\n"
     ]
    }
   ],
   "source": [
    "import torch\n",
    "import torch.nn as nn\n",
    "import torch.optim as optim\n",
    "import torchvision.transforms as transforms\n",
    "from torchvision import datasets\n",
    "from torch.utils.data import DataLoader\n",
    "\n",
    "class SimpleNN(nn.Module):\n",
    "    def __init__(self):\n",
    "        super(SimpleNN, self).__init__()\n",
    "        self.fc1 = nn.Linear(28 * 28, 128)\n",
    "        self.fc2 = nn.Linear(128, 10)\n",
    "\n",
    "    def forward(self, x):\n",
    "        x = x.view(-1, 28 * 28)\n",
    "        x = torch.relu(self.fc1(x))\n",
    "        x = self.fc2(x)\n",
    "        return x\n",
    "\n",
    "batch_size = 64\n",
    "learning_rate = 0.001\n",
    "num_epochs = 5\n",
    "\n",
    "transform = transforms.Compose([transforms.ToTensor()])\n",
    "train_dataset = datasets.MNIST(root='./data', train=True, download=True, transform=transform)\n",
    "train_loader = DataLoader(dataset=train_dataset, batch_size=batch_size, shuffle=True)\n",
    "\n",
    "model = SimpleNN()\n",
    "criterion = nn.CrossEntropyLoss()\n",
    "optimizer = optim.Adam(model.parameters(), lr=learning_rate)\n",
    "\n",
    "for epoch in range(num_epochs):\n",
    "    for images, labels in train_loader:\n",
    "        optimizer.zero_grad()\n",
    "        outputs = model(images)\n",
    "        loss = criterion(outputs, labels)\n",
    "        loss.backward()\n",
    "        optimizer.step()\n",
    "    print(f'Epoch [{epoch + 1}/{num_epochs}], Loss: {loss.item():.4f}')\n",
    "\n",
    "torch.save(model.state_dict(), 'model.pth')"
   ]
  },
  {
   "cell_type": "code",
   "execution_count": 33,
   "id": "e835774c-f1ff-484f-9b55-41670df31abb",
   "metadata": {},
   "outputs": [
    {
     "name": "stdout",
     "output_type": "stream",
     "text": [
      "Model exported to model.onnx\n"
     ]
    }
   ],
   "source": [
    "dummy_input = torch.randn(1, 1, 28, 28)  \n",
    "onnx_file_path = \"model.onnx\"\n",
    "torch.onnx.export(model, dummy_input, onnx_file_path, export_params=True, \n",
    "                  opset_version=11, do_constant_folding=True, \n",
    "                  input_names=['input'], output_names=['output'])\n",
    "print(f'Model exported to {onnx_file_path}')"
   ]
  },
  {
   "cell_type": "code",
   "execution_count": 101,
   "id": "2c6bedc0-4184-463a-9536-4cd9fde567fd",
   "metadata": {},
   "outputs": [],
   "source": [
    "test_dataset = datasets.MNIST(root='./data', train=False, download=True, transform=transform)\n",
    "test_loader = DataLoader(dataset=test_dataset, batch_size=batch_size, shuffle=True)"
   ]
  },
  {
   "cell_type": "code",
   "execution_count": 137,
   "id": "131dea86-41ac-48bd-89da-32d82ad96cdb",
   "metadata": {},
   "outputs": [
    {
     "name": "stdout",
     "output_type": "stream",
     "text": [
      "Average inference time (ONNX): 0.000790 seconds per batch\n",
      "Average inference time (PyTorch): 0.000046 seconds per batch\n"
     ]
    }
   ],
   "source": [
    "import time\n",
    "import onnx\n",
    "import onnxruntime as ort\n",
    "\n",
    "onnx_model = onnx.load(onnx_file_path)\n",
    "onnx.checker.check_model(onnx_model)\n",
    "ort_session = ort.InferenceSession(onnx_file_path)\n",
    "\n",
    "def test_speed(model, data_loader, framework='pytorch'):\n",
    "    model.eval()\n",
    "    total_time = 0\n",
    "    with torch.no_grad():\n",
    "        for images, _ in data_loader:\n",
    "            if framework == 'pytorch':\n",
    "                start_time = time.time()\n",
    "                model(images)\n",
    "                total_time += time.time() - start_time\n",
    "            else:  \n",
    "                for img in images:  \n",
    "                    start_time = time.time()\n",
    "                    ort_inputs = {ort_session.get_inputs()[0].name: img.unsqueeze(0).numpy()} \n",
    "                    ort_session.run(None, ort_inputs)\n",
    "                    total_time += time.time() - start_time\n",
    "    return total_time / len(data_loader)\n",
    "\n",
    "onnx_speed = test_speed(model, test_loader, framework='onnx')\n",
    "print(f'Average inference time (ONNX): {onnx_speed:.6f} seconds per batch')\n",
    "\n",
    "pytorch_speed = test_speed(model, test_loader, framework='pytorch')\n",
    "print(f'Average inference time (PyTorch): {pytorch_speed:.6f} seconds per batch')\n"
   ]
  },
  {
   "cell_type": "code",
   "execution_count": 163,
   "id": "fa65d03c-6557-47ea-9644-bc66ed9d9ebd",
   "metadata": {},
   "outputs": [
    {
     "name": "stdout",
     "output_type": "stream",
     "text": [
      "Average inference time (ONNX): 0.000741 seconds per batch\n",
      "Average inference time (PyTorch): 0.000048 seconds per batch\n",
      "Accuracy (ONNX): 0.9725\n",
      "Accuracy (PyTorch): 0.9725\n"
     ]
    }
   ],
   "source": [
    "import time\n",
    "import torch\n",
    "import onnx\n",
    "import onnxruntime as ort\n",
    "from sklearn.metrics import accuracy_score\n",
    "\n",
    "# Загрузка ONNX модели\n",
    "onnx_model = onnx.load(onnx_file_path)\n",
    "onnx.checker.check_model(onnx_model)\n",
    "ort_session = ort.InferenceSession(onnx_file_path)\n",
    "\n",
    "def test_speed(model, data_loader, framework='pytorch'):\n",
    "    total_time = 0\n",
    "    with torch.no_grad():\n",
    "        for images, _ in data_loader:\n",
    "            if framework == 'pytorch':\n",
    "                start_time = time.time()\n",
    "                model(images)\n",
    "                total_time += time.time() - start_time\n",
    "            else:  \n",
    "                for img in images:  \n",
    "                    start_time = time.time()\n",
    "                    ort_inputs = {ort_session.get_inputs()[0].name: img.unsqueeze(0).numpy()}  # Добавляем размер батча\n",
    "                    ort_session.run(None, ort_inputs)\n",
    "                    total_time += time.time() - start_time\n",
    "    return total_time / len(data_loader)\n",
    "\n",
    "def test_accuracy(model, data_loader, framework='pytorch'):\n",
    "    all_preds = []\n",
    "    all_labels = []\n",
    "    preds = []\n",
    "    with torch.no_grad():\n",
    "        for images, labels in data_loader:      \n",
    "            if framework == 'pytorch':\n",
    "                outputs = model(images)\n",
    "                _, pred = torch.max(outputs, 1)\n",
    "                preds.extend(pred)\n",
    "            else:\n",
    "                for img in images:  \n",
    "                    ort_inputs = {ort_session.get_inputs()[0].name: img.unsqueeze(0).numpy()}   # Преобразование в numpy\n",
    "                    outputs = ort_session.run(None, ort_inputs)\n",
    "                    preds.extend(torch.tensor(outputs[0]).argmax(axis=1).numpy())\n",
    "                    \n",
    "            all_preds = preds\n",
    "            all_labels.extend(labels.numpy())\n",
    "    accuracy = accuracy_score(all_labels, all_preds)\n",
    "    return accuracy\n",
    "\n",
    "# Измерение скорости\n",
    "onnx_speed = test_speed(model, train_loader, framework='onnx')\n",
    "print(f'Average inference time (ONNX): {onnx_speed:.6f} seconds per batch')\n",
    "\n",
    "pytorch_speed = test_speed(model, train_loader, framework='pytorch')\n",
    "print(f'Average inference time (PyTorch): {pytorch_speed:.6f} seconds per batch')\n",
    "\n",
    "# Измерение точности\n",
    "onnx_accuracy = test_accuracy(model, test_loader, framework='onnx')\n",
    "print(f'Accuracy (ONNX): {onnx_accuracy:.4f}')\n",
    "\n",
    "pytorch_accuracy = test_accuracy(model, test_loader, framework='pytorch')\n",
    "print(f'Accuracy (PyTorch): {pytorch_accuracy:.4f}')"
   ]
  },
  {
   "cell_type": "code",
   "execution_count": null,
   "id": "3ee31fa7-f155-421c-a330-78ea640b4427",
   "metadata": {},
   "outputs": [],
   "source": []
  }
 ],
 "metadata": {
  "kernelspec": {
   "display_name": "Python 3 (ipykernel)",
   "language": "python",
   "name": "python3"
  },
  "language_info": {
   "codemirror_mode": {
    "name": "ipython",
    "version": 3
   },
   "file_extension": ".py",
   "mimetype": "text/x-python",
   "name": "python",
   "nbconvert_exporter": "python",
   "pygments_lexer": "ipython3",
   "version": "3.12.4"
  }
 },
 "nbformat": 4,
 "nbformat_minor": 5
}
